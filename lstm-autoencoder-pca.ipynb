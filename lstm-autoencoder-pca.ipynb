{
 "cells": [
  {
   "cell_type": "markdown",
   "metadata": {},
   "source": [
    "# Optimizing the number of layers in an LSTM Autoencoder\n",
    "\n",
    "This is a continuation of the regular autoencoder for rare event classification presented in\n",
    "https://towardsdatascience.com/lstm-autoencoder-for-extreme-rare-event-classification-in-keras-ce209a224cfb\n",
    "and code present in\n",
    "https://github.com/cran2367/lstm_autoencoder_classifier\n",
    "\n",
    "The dataset used here is taken from here,\n",
    "\n",
    "**Dataset: Rare Event Classification in Multivariate Time Series** https://arxiv.org/abs/1809.10717 (please cite this article, if using the dataset)."
   ]
  },
  {
   "cell_type": "code",
   "execution_count": 77,
   "metadata": {},
   "outputs": [],
   "source": [
    "%matplotlib inline\n",
    "import matplotlib.pyplot as plt\n",
    "import seaborn as sns\n",
    "\n",
    "import pandas as pd\n",
    "import numpy as np\n",
    "from pylab import rcParams\n",
    "\n",
    "import tensorflow as tf\n",
    "from keras import optimizers, Sequential\n",
    "from keras.models import Model\n",
    "from keras.utils import plot_model\n",
    "from keras.layers import Dense, LSTM, RepeatVector, TimeDistributed, Dropout\n",
    "from keras.callbacks import ModelCheckpoint, TensorBoard\n",
    "\n",
    "from sklearn.preprocessing import StandardScaler\n",
    "from sklearn.model_selection import train_test_split\n",
    "from sklearn.metrics import confusion_matrix, precision_recall_curve\n",
    "from sklearn.metrics import recall_score, classification_report, auc, roc_curve\n",
    "from sklearn.metrics import precision_recall_fscore_support, f1_score\n",
    "\n",
    "from numpy.random import seed\n",
    "seed(7)\n",
    "from tensorflow import set_random_seed\n",
    "set_random_seed(11)\n",
    "\n",
    "from sklearn.model_selection import train_test_split\n",
    "\n",
    "SEED = 123 #used to help randomly select the data points\n",
    "DATA_SPLIT_PCT = 0.2\n",
    "\n",
    "rcParams['figure.figsize'] = 8, 6\n",
    "LABELS = [\"Normal\",\"Break\"]"
   ]
  },
  {
   "cell_type": "markdown",
   "metadata": {},
   "source": [
    "## Reading and preparing data"
   ]
  },
  {
   "cell_type": "markdown",
   "metadata": {},
   "source": [
    "The data is taken from https://arxiv.org/abs/1809.10717. Please use this source for any citation."
   ]
  },
  {
   "cell_type": "code",
   "execution_count": 2,
   "metadata": {},
   "outputs": [
    {
     "data": {
      "text/html": [
       "<div>\n",
       "<style scoped>\n",
       "    .dataframe tbody tr th:only-of-type {\n",
       "        vertical-align: middle;\n",
       "    }\n",
       "\n",
       "    .dataframe tbody tr th {\n",
       "        vertical-align: top;\n",
       "    }\n",
       "\n",
       "    .dataframe thead th {\n",
       "        text-align: right;\n",
       "    }\n",
       "</style>\n",
       "<table border=\"1\" class=\"dataframe\">\n",
       "  <thead>\n",
       "    <tr style=\"text-align: right;\">\n",
       "      <th></th>\n",
       "      <th>time</th>\n",
       "      <th>y</th>\n",
       "      <th>x1</th>\n",
       "      <th>x2</th>\n",
       "      <th>x3</th>\n",
       "      <th>x4</th>\n",
       "      <th>x5</th>\n",
       "      <th>x6</th>\n",
       "      <th>x7</th>\n",
       "      <th>x8</th>\n",
       "      <th>...</th>\n",
       "      <th>x52</th>\n",
       "      <th>x53</th>\n",
       "      <th>x54</th>\n",
       "      <th>x55</th>\n",
       "      <th>x56</th>\n",
       "      <th>x57</th>\n",
       "      <th>x58</th>\n",
       "      <th>x59</th>\n",
       "      <th>x60</th>\n",
       "      <th>x61</th>\n",
       "    </tr>\n",
       "  </thead>\n",
       "  <tbody>\n",
       "    <tr>\n",
       "      <th>0</th>\n",
       "      <td>5/1/99 0:00</td>\n",
       "      <td>0</td>\n",
       "      <td>0.376665</td>\n",
       "      <td>-4.596435</td>\n",
       "      <td>-4.095756</td>\n",
       "      <td>13.497687</td>\n",
       "      <td>-0.118830</td>\n",
       "      <td>-20.669883</td>\n",
       "      <td>0.000732</td>\n",
       "      <td>-0.061114</td>\n",
       "      <td>...</td>\n",
       "      <td>10.091721</td>\n",
       "      <td>0.053279</td>\n",
       "      <td>-4.936434</td>\n",
       "      <td>-24.590146</td>\n",
       "      <td>18.515436</td>\n",
       "      <td>3.473400</td>\n",
       "      <td>0.033444</td>\n",
       "      <td>0.953219</td>\n",
       "      <td>0.006076</td>\n",
       "      <td>0</td>\n",
       "    </tr>\n",
       "    <tr>\n",
       "      <th>1</th>\n",
       "      <td>5/1/99 0:02</td>\n",
       "      <td>0</td>\n",
       "      <td>0.475720</td>\n",
       "      <td>-4.542502</td>\n",
       "      <td>-4.018359</td>\n",
       "      <td>16.230659</td>\n",
       "      <td>-0.128733</td>\n",
       "      <td>-18.758079</td>\n",
       "      <td>0.000732</td>\n",
       "      <td>-0.061114</td>\n",
       "      <td>...</td>\n",
       "      <td>10.095871</td>\n",
       "      <td>0.062801</td>\n",
       "      <td>-4.937179</td>\n",
       "      <td>-32.413266</td>\n",
       "      <td>22.760065</td>\n",
       "      <td>2.682933</td>\n",
       "      <td>0.033536</td>\n",
       "      <td>1.090502</td>\n",
       "      <td>0.006083</td>\n",
       "      <td>0</td>\n",
       "    </tr>\n",
       "    <tr>\n",
       "      <th>2</th>\n",
       "      <td>5/1/99 0:04</td>\n",
       "      <td>0</td>\n",
       "      <td>0.363848</td>\n",
       "      <td>-4.681394</td>\n",
       "      <td>-4.353147</td>\n",
       "      <td>14.127998</td>\n",
       "      <td>-0.138636</td>\n",
       "      <td>-17.836632</td>\n",
       "      <td>0.010803</td>\n",
       "      <td>-0.061114</td>\n",
       "      <td>...</td>\n",
       "      <td>10.100265</td>\n",
       "      <td>0.072322</td>\n",
       "      <td>-4.937924</td>\n",
       "      <td>-34.183774</td>\n",
       "      <td>27.004663</td>\n",
       "      <td>3.537487</td>\n",
       "      <td>0.033629</td>\n",
       "      <td>1.840540</td>\n",
       "      <td>0.006090</td>\n",
       "      <td>0</td>\n",
       "    </tr>\n",
       "    <tr>\n",
       "      <th>3</th>\n",
       "      <td>5/1/99 0:06</td>\n",
       "      <td>0</td>\n",
       "      <td>0.301590</td>\n",
       "      <td>-4.758934</td>\n",
       "      <td>-4.023612</td>\n",
       "      <td>13.161567</td>\n",
       "      <td>-0.148142</td>\n",
       "      <td>-18.517601</td>\n",
       "      <td>0.002075</td>\n",
       "      <td>-0.061114</td>\n",
       "      <td>...</td>\n",
       "      <td>10.104660</td>\n",
       "      <td>0.081600</td>\n",
       "      <td>-4.938669</td>\n",
       "      <td>-35.954281</td>\n",
       "      <td>21.672449</td>\n",
       "      <td>3.986095</td>\n",
       "      <td>0.033721</td>\n",
       "      <td>2.554880</td>\n",
       "      <td>0.006097</td>\n",
       "      <td>0</td>\n",
       "    </tr>\n",
       "    <tr>\n",
       "      <th>4</th>\n",
       "      <td>5/1/99 0:08</td>\n",
       "      <td>0</td>\n",
       "      <td>0.265578</td>\n",
       "      <td>-4.749928</td>\n",
       "      <td>-4.333150</td>\n",
       "      <td>15.267340</td>\n",
       "      <td>-0.155314</td>\n",
       "      <td>-17.505913</td>\n",
       "      <td>0.000732</td>\n",
       "      <td>-0.061114</td>\n",
       "      <td>...</td>\n",
       "      <td>10.109054</td>\n",
       "      <td>0.091121</td>\n",
       "      <td>-4.939414</td>\n",
       "      <td>-37.724789</td>\n",
       "      <td>21.907251</td>\n",
       "      <td>3.601573</td>\n",
       "      <td>0.033777</td>\n",
       "      <td>1.410494</td>\n",
       "      <td>0.006105</td>\n",
       "      <td>0</td>\n",
       "    </tr>\n",
       "  </tbody>\n",
       "</table>\n",
       "<p>5 rows × 63 columns</p>\n",
       "</div>"
      ],
      "text/plain": [
       "          time  y        x1        x2        x3         x4        x5  \\\n",
       "0  5/1/99 0:00  0  0.376665 -4.596435 -4.095756  13.497687 -0.118830   \n",
       "1  5/1/99 0:02  0  0.475720 -4.542502 -4.018359  16.230659 -0.128733   \n",
       "2  5/1/99 0:04  0  0.363848 -4.681394 -4.353147  14.127998 -0.138636   \n",
       "3  5/1/99 0:06  0  0.301590 -4.758934 -4.023612  13.161567 -0.148142   \n",
       "4  5/1/99 0:08  0  0.265578 -4.749928 -4.333150  15.267340 -0.155314   \n",
       "\n",
       "          x6        x7        x8 ...         x52       x53       x54  \\\n",
       "0 -20.669883  0.000732 -0.061114 ...   10.091721  0.053279 -4.936434   \n",
       "1 -18.758079  0.000732 -0.061114 ...   10.095871  0.062801 -4.937179   \n",
       "2 -17.836632  0.010803 -0.061114 ...   10.100265  0.072322 -4.937924   \n",
       "3 -18.517601  0.002075 -0.061114 ...   10.104660  0.081600 -4.938669   \n",
       "4 -17.505913  0.000732 -0.061114 ...   10.109054  0.091121 -4.939414   \n",
       "\n",
       "         x55        x56       x57       x58       x59       x60  x61  \n",
       "0 -24.590146  18.515436  3.473400  0.033444  0.953219  0.006076    0  \n",
       "1 -32.413266  22.760065  2.682933  0.033536  1.090502  0.006083    0  \n",
       "2 -34.183774  27.004663  3.537487  0.033629  1.840540  0.006090    0  \n",
       "3 -35.954281  21.672449  3.986095  0.033721  2.554880  0.006097    0  \n",
       "4 -37.724789  21.907251  3.601573  0.033777  1.410494  0.006105    0  \n",
       "\n",
       "[5 rows x 63 columns]"
      ]
     },
     "execution_count": 2,
     "metadata": {},
     "output_type": "execute_result"
    }
   ],
   "source": [
    "'''\n",
    "Download data here:\n",
    "https://docs.google.com/forms/d/e/1FAIpQLSdyUk3lfDl7I5KYK_pw285LCApc-_RcoC0Tf9cnDnZ_TWzPAw/viewform\n",
    "'''\n",
    "df = pd.read_csv(\"data/processminer-rare-event-mts - data.csv\") \n",
    "df.head(n=5)  # visualize the data."
   ]
  },
  {
   "cell_type": "markdown",
   "metadata": {},
   "source": [
    "### Shift the data\n",
    "\n",
    "This is a timeseries data in which we have to predict the event (y = 1) ahead in time. In this data, consecutive rows are 2 minutes apart. We will shift the labels in column `y` by 2 rows to do a 4 minute ahead prediction."
   ]
  },
  {
   "cell_type": "code",
   "execution_count": 3,
   "metadata": {},
   "outputs": [],
   "source": [
    "sign = lambda x: (1, -1)[x < 0]\n",
    "\n",
    "def curve_shift(df, shift_by):\n",
    "    '''\n",
    "    This function will shift the binary labels in a dataframe.\n",
    "    The curve shift will be with respect to the 1s. \n",
    "    For example, if shift is -2, the following process\n",
    "    will happen: if row n is labeled as 1, then\n",
    "    - Make row (n+shift_by):(n+shift_by-1) = 1.\n",
    "    - Remove row n.\n",
    "    i.e. the labels will be shifted up to 2 rows up.\n",
    "    \n",
    "    Inputs:\n",
    "    df       A pandas dataframe with a binary labeled column. \n",
    "             This labeled column should be named as 'y'.\n",
    "    shift_by An integer denoting the number of rows to shift.\n",
    "    \n",
    "    Output\n",
    "    df       A dataframe with the binary labels shifted by shift.\n",
    "    '''\n",
    "\n",
    "    vector = df['y'].copy()\n",
    "    for s in range(abs(shift_by)):\n",
    "        tmp = vector.shift(sign(shift_by))\n",
    "        tmp = tmp.fillna(0)\n",
    "        vector += tmp\n",
    "    labelcol = 'y'\n",
    "    # Add vector to the df\n",
    "    df.insert(loc=0, column=labelcol+'tmp', value=vector)\n",
    "    # Remove the rows with labelcol == 1.\n",
    "    df = df.drop(df[df[labelcol] == 1].index)\n",
    "    # Drop labelcol and rename the tmp col as labelcol\n",
    "    df = df.drop(labelcol, axis=1)\n",
    "    df = df.rename(columns={labelcol+'tmp': labelcol})\n",
    "    # Make the labelcol binary\n",
    "    df.loc[df[labelcol] > 0, labelcol] = 1\n",
    "\n",
    "    return df"
   ]
  },
  {
   "cell_type": "code",
   "execution_count": 4,
   "metadata": {},
   "outputs": [
    {
     "name": "stdout",
     "output_type": "stream",
     "text": [
      "Before shifting\n"
     ]
    },
    {
     "data": {
      "text/html": [
       "<div>\n",
       "<style scoped>\n",
       "    .dataframe tbody tr th:only-of-type {\n",
       "        vertical-align: middle;\n",
       "    }\n",
       "\n",
       "    .dataframe tbody tr th {\n",
       "        vertical-align: top;\n",
       "    }\n",
       "\n",
       "    .dataframe thead th {\n",
       "        text-align: right;\n",
       "    }\n",
       "</style>\n",
       "<table border=\"1\" class=\"dataframe\">\n",
       "  <thead>\n",
       "    <tr style=\"text-align: right;\">\n",
       "      <th></th>\n",
       "      <th>time</th>\n",
       "      <th>y</th>\n",
       "      <th>x1</th>\n",
       "      <th>x2</th>\n",
       "      <th>x3</th>\n",
       "    </tr>\n",
       "  </thead>\n",
       "  <tbody>\n",
       "    <tr>\n",
       "      <th>256</th>\n",
       "      <td>5/1/99 8:32</td>\n",
       "      <td>0</td>\n",
       "      <td>1.016235</td>\n",
       "      <td>-4.058394</td>\n",
       "      <td>-1.097158</td>\n",
       "    </tr>\n",
       "    <tr>\n",
       "      <th>257</th>\n",
       "      <td>5/1/99 8:34</td>\n",
       "      <td>0</td>\n",
       "      <td>1.005602</td>\n",
       "      <td>-3.876199</td>\n",
       "      <td>-1.074373</td>\n",
       "    </tr>\n",
       "    <tr>\n",
       "      <th>258</th>\n",
       "      <td>5/1/99 8:36</td>\n",
       "      <td>0</td>\n",
       "      <td>0.933933</td>\n",
       "      <td>-3.868467</td>\n",
       "      <td>-1.249954</td>\n",
       "    </tr>\n",
       "    <tr>\n",
       "      <th>259</th>\n",
       "      <td>5/1/99 8:38</td>\n",
       "      <td>1</td>\n",
       "      <td>0.892311</td>\n",
       "      <td>-13.332664</td>\n",
       "      <td>-10.006578</td>\n",
       "    </tr>\n",
       "    <tr>\n",
       "      <th>260</th>\n",
       "      <td>5/1/99 10:50</td>\n",
       "      <td>0</td>\n",
       "      <td>0.020062</td>\n",
       "      <td>-3.987897</td>\n",
       "      <td>-1.248529</td>\n",
       "    </tr>\n",
       "  </tbody>\n",
       "</table>\n",
       "</div>"
      ],
      "text/plain": [
       "             time  y        x1         x2         x3\n",
       "256   5/1/99 8:32  0  1.016235  -4.058394  -1.097158\n",
       "257   5/1/99 8:34  0  1.005602  -3.876199  -1.074373\n",
       "258   5/1/99 8:36  0  0.933933  -3.868467  -1.249954\n",
       "259   5/1/99 8:38  1  0.892311 -13.332664 -10.006578\n",
       "260  5/1/99 10:50  0  0.020062  -3.987897  -1.248529"
      ]
     },
     "metadata": {},
     "output_type": "display_data"
    },
    {
     "name": "stdout",
     "output_type": "stream",
     "text": [
      "After shifting\n"
     ]
    },
    {
     "data": {
      "text/html": [
       "<div>\n",
       "<style scoped>\n",
       "    .dataframe tbody tr th:only-of-type {\n",
       "        vertical-align: middle;\n",
       "    }\n",
       "\n",
       "    .dataframe tbody tr th {\n",
       "        vertical-align: top;\n",
       "    }\n",
       "\n",
       "    .dataframe thead th {\n",
       "        text-align: right;\n",
       "    }\n",
       "</style>\n",
       "<table border=\"1\" class=\"dataframe\">\n",
       "  <thead>\n",
       "    <tr style=\"text-align: right;\">\n",
       "      <th></th>\n",
       "      <th>y</th>\n",
       "      <th>time</th>\n",
       "      <th>x1</th>\n",
       "      <th>x2</th>\n",
       "      <th>x3</th>\n",
       "    </tr>\n",
       "  </thead>\n",
       "  <tbody>\n",
       "    <tr>\n",
       "      <th>255</th>\n",
       "      <td>0.0</td>\n",
       "      <td>5/1/99 8:30</td>\n",
       "      <td>0.997107</td>\n",
       "      <td>-3.865720</td>\n",
       "      <td>-1.133779</td>\n",
       "    </tr>\n",
       "    <tr>\n",
       "      <th>256</th>\n",
       "      <td>0.0</td>\n",
       "      <td>5/1/99 8:32</td>\n",
       "      <td>1.016235</td>\n",
       "      <td>-4.058394</td>\n",
       "      <td>-1.097158</td>\n",
       "    </tr>\n",
       "    <tr>\n",
       "      <th>257</th>\n",
       "      <td>1.0</td>\n",
       "      <td>5/1/99 8:34</td>\n",
       "      <td>1.005602</td>\n",
       "      <td>-3.876199</td>\n",
       "      <td>-1.074373</td>\n",
       "    </tr>\n",
       "    <tr>\n",
       "      <th>258</th>\n",
       "      <td>1.0</td>\n",
       "      <td>5/1/99 8:36</td>\n",
       "      <td>0.933933</td>\n",
       "      <td>-3.868467</td>\n",
       "      <td>-1.249954</td>\n",
       "    </tr>\n",
       "    <tr>\n",
       "      <th>260</th>\n",
       "      <td>0.0</td>\n",
       "      <td>5/1/99 10:50</td>\n",
       "      <td>0.020062</td>\n",
       "      <td>-3.987897</td>\n",
       "      <td>-1.248529</td>\n",
       "    </tr>\n",
       "  </tbody>\n",
       "</table>\n",
       "</div>"
      ],
      "text/plain": [
       "       y          time        x1        x2        x3\n",
       "255  0.0   5/1/99 8:30  0.997107 -3.865720 -1.133779\n",
       "256  0.0   5/1/99 8:32  1.016235 -4.058394 -1.097158\n",
       "257  1.0   5/1/99 8:34  1.005602 -3.876199 -1.074373\n",
       "258  1.0   5/1/99 8:36  0.933933 -3.868467 -1.249954\n",
       "260  0.0  5/1/99 10:50  0.020062 -3.987897 -1.248529"
      ]
     },
     "metadata": {},
     "output_type": "display_data"
    }
   ],
   "source": [
    "'''\n",
    "Shift the data by 2 units, equal to 4 minutes.\n",
    "\n",
    "Test: Testing whether the shift happened correctly.\n",
    "'''\n",
    "print('Before shifting')  # Positive labeled rows before shifting.\n",
    "one_indexes = df.index[df['y'] == 1]\n",
    "display(df.iloc[(one_indexes[0]-3):(one_indexes[0]+2), 0:5].head(n=5))\n",
    "\n",
    "# Shift the response column y by 2 rows to do a 4-min ahead prediction.\n",
    "df = curve_shift(df, shift_by = -2)\n",
    "\n",
    "print('After shifting')  # Validating if the shift happened correctly.\n",
    "display(df.iloc[(one_indexes[0]-4):(one_indexes[0]+1), 0:5].head(n=5))  "
   ]
  },
  {
   "cell_type": "markdown",
   "metadata": {},
   "source": [
    "If we note here, we moved the positive label at 5/1/99 8:38 to t-1 and t-2 timestamps, and dropped row t. There is a time difference of more than 2 minutes between a break row and the next row because in the data consecutive break rows are deleted. This was done to prevent a classification model learn predicting a break after the break has happened. Refer https://arxiv.org/abs/1809.10717 for details."
   ]
  },
  {
   "cell_type": "code",
   "execution_count": 5,
   "metadata": {},
   "outputs": [],
   "source": [
    "# Remove time column, and the categorical columns\n",
    "df = df.drop(['time', 'x28', 'x61'], axis=1)"
   ]
  },
  {
   "cell_type": "markdown",
   "metadata": {},
   "source": [
    "# Prepare data for LSTM models"
   ]
  },
  {
   "cell_type": "markdown",
   "metadata": {},
   "source": [
    "LSTM is a bit more demanding than other models. Significant amount of time and attention goes in preparing the data that fits an LSTM.\n",
    "\n",
    "First, we will create the 3-dimensional arrays of shape: (samples x timesteps x features). Samples mean the number of data points. Timesteps is the number of time steps we look back at any time t to make a prediction. This is also referred to as lookback period. The features is the number of features the data has, in other words, the number of predictors in a multivariate data."
   ]
  },
  {
   "cell_type": "code",
   "execution_count": 6,
   "metadata": {},
   "outputs": [],
   "source": [
    "input_X = df.loc[:, df.columns != 'y'].values  # converts the df to a numpy array\n",
    "input_y = df['y'].values\n",
    "\n",
    "n_features = input_X.shape[1]  # number of features"
   ]
  },
  {
   "cell_type": "code",
   "execution_count": 7,
   "metadata": {},
   "outputs": [],
   "source": [
    "def temporalize(X, y, lookback):\n",
    "    output_X = []\n",
    "    output_y = []\n",
    "    for i in range(len(X)-lookback-1):\n",
    "        t = []\n",
    "        for j in range(1,lookback+1):\n",
    "            # Gather past records upto the lookback period\n",
    "            t.append(X[[(i+j+1)], :])\n",
    "        output_X.append(t)\n",
    "        output_y.append(y[i+lookback+1])\n",
    "    return output_X, output_y"
   ]
  },
  {
   "cell_type": "markdown",
   "metadata": {},
   "source": [
    "In LSTM, to make prediction at any time t, we will look at data from (t-lookback):t. In the following, we have an example to show how the input data are transformed with the `temporalize` function with `lookback=5`. For the modeling, we may use a longer lookback."
   ]
  },
  {
   "cell_type": "code",
   "execution_count": 8,
   "metadata": {},
   "outputs": [
    {
     "name": "stdout",
     "output_type": "stream",
     "text": [
      "First instance of y = 1 in the original data\n"
     ]
    },
    {
     "data": {
      "text/html": [
       "<div>\n",
       "<style scoped>\n",
       "    .dataframe tbody tr th:only-of-type {\n",
       "        vertical-align: middle;\n",
       "    }\n",
       "\n",
       "    .dataframe tbody tr th {\n",
       "        vertical-align: top;\n",
       "    }\n",
       "\n",
       "    .dataframe thead th {\n",
       "        text-align: right;\n",
       "    }\n",
       "</style>\n",
       "<table border=\"1\" class=\"dataframe\">\n",
       "  <thead>\n",
       "    <tr style=\"text-align: right;\">\n",
       "      <th></th>\n",
       "      <th>y</th>\n",
       "      <th>x1</th>\n",
       "      <th>x2</th>\n",
       "      <th>x3</th>\n",
       "      <th>x4</th>\n",
       "      <th>x5</th>\n",
       "      <th>x6</th>\n",
       "      <th>x7</th>\n",
       "      <th>x8</th>\n",
       "      <th>x9</th>\n",
       "      <th>...</th>\n",
       "      <th>x51</th>\n",
       "      <th>x52</th>\n",
       "      <th>x53</th>\n",
       "      <th>x54</th>\n",
       "      <th>x55</th>\n",
       "      <th>x56</th>\n",
       "      <th>x57</th>\n",
       "      <th>x58</th>\n",
       "      <th>x59</th>\n",
       "      <th>x60</th>\n",
       "    </tr>\n",
       "  </thead>\n",
       "  <tbody>\n",
       "    <tr>\n",
       "      <th>252</th>\n",
       "      <td>0.0</td>\n",
       "      <td>0.987078</td>\n",
       "      <td>-4.025989</td>\n",
       "      <td>-1.210205</td>\n",
       "      <td>0.899603</td>\n",
       "      <td>0.450338</td>\n",
       "      <td>14.098854</td>\n",
       "      <td>0.000732</td>\n",
       "      <td>-0.051043</td>\n",
       "      <td>-0.059966</td>\n",
       "      <td>...</td>\n",
       "      <td>29.984624</td>\n",
       "      <td>11.248703</td>\n",
       "      <td>-0.752385</td>\n",
       "      <td>-5.014893</td>\n",
       "      <td>-67.454037</td>\n",
       "      <td>66.232568</td>\n",
       "      <td>4.114269</td>\n",
       "      <td>0.033726</td>\n",
       "      <td>4.845087</td>\n",
       "      <td>0.007776</td>\n",
       "    </tr>\n",
       "    <tr>\n",
       "      <th>253</th>\n",
       "      <td>0.0</td>\n",
       "      <td>0.921726</td>\n",
       "      <td>-3.728572</td>\n",
       "      <td>-1.230373</td>\n",
       "      <td>-1.598718</td>\n",
       "      <td>0.227178</td>\n",
       "      <td>14.594612</td>\n",
       "      <td>0.000061</td>\n",
       "      <td>-0.051043</td>\n",
       "      <td>-0.040129</td>\n",
       "      <td>...</td>\n",
       "      <td>29.984624</td>\n",
       "      <td>11.253342</td>\n",
       "      <td>-0.752385</td>\n",
       "      <td>-5.014987</td>\n",
       "      <td>-58.029477</td>\n",
       "      <td>66.310022</td>\n",
       "      <td>3.537487</td>\n",
       "      <td>0.032518</td>\n",
       "      <td>4.969500</td>\n",
       "      <td>0.007760</td>\n",
       "    </tr>\n",
       "    <tr>\n",
       "      <th>254</th>\n",
       "      <td>0.0</td>\n",
       "      <td>0.975947</td>\n",
       "      <td>-3.913736</td>\n",
       "      <td>-1.304682</td>\n",
       "      <td>0.561987</td>\n",
       "      <td>0.004034</td>\n",
       "      <td>14.630532</td>\n",
       "      <td>0.000732</td>\n",
       "      <td>-0.051043</td>\n",
       "      <td>-0.040129</td>\n",
       "      <td>...</td>\n",
       "      <td>29.984624</td>\n",
       "      <td>11.257736</td>\n",
       "      <td>-0.752385</td>\n",
       "      <td>-5.015081</td>\n",
       "      <td>-61.783749</td>\n",
       "      <td>71.917352</td>\n",
       "      <td>3.473400</td>\n",
       "      <td>0.031310</td>\n",
       "      <td>2.981432</td>\n",
       "      <td>0.007743</td>\n",
       "    </tr>\n",
       "    <tr>\n",
       "      <th>255</th>\n",
       "      <td>0.0</td>\n",
       "      <td>0.997107</td>\n",
       "      <td>-3.865720</td>\n",
       "      <td>-1.133779</td>\n",
       "      <td>0.377295</td>\n",
       "      <td>-0.219126</td>\n",
       "      <td>14.666420</td>\n",
       "      <td>0.000732</td>\n",
       "      <td>-0.061114</td>\n",
       "      <td>-0.040129</td>\n",
       "      <td>...</td>\n",
       "      <td>29.984624</td>\n",
       "      <td>11.262375</td>\n",
       "      <td>-0.752385</td>\n",
       "      <td>-5.015176</td>\n",
       "      <td>-70.151791</td>\n",
       "      <td>73.876977</td>\n",
       "      <td>3.473400</td>\n",
       "      <td>0.030776</td>\n",
       "      <td>2.563593</td>\n",
       "      <td>0.007727</td>\n",
       "    </tr>\n",
       "    <tr>\n",
       "      <th>256</th>\n",
       "      <td>0.0</td>\n",
       "      <td>1.016235</td>\n",
       "      <td>-4.058394</td>\n",
       "      <td>-1.097158</td>\n",
       "      <td>2.327307</td>\n",
       "      <td>-0.442286</td>\n",
       "      <td>14.702309</td>\n",
       "      <td>0.000732</td>\n",
       "      <td>-0.061114</td>\n",
       "      <td>-0.040129</td>\n",
       "      <td>...</td>\n",
       "      <td>29.984624</td>\n",
       "      <td>11.267013</td>\n",
       "      <td>-0.752385</td>\n",
       "      <td>-5.015270</td>\n",
       "      <td>-60.884701</td>\n",
       "      <td>72.188928</td>\n",
       "      <td>4.114269</td>\n",
       "      <td>0.031186</td>\n",
       "      <td>2.982454</td>\n",
       "      <td>0.007711</td>\n",
       "    </tr>\n",
       "    <tr>\n",
       "      <th>257</th>\n",
       "      <td>1.0</td>\n",
       "      <td>1.005602</td>\n",
       "      <td>-3.876199</td>\n",
       "      <td>-1.074373</td>\n",
       "      <td>0.844397</td>\n",
       "      <td>-0.553050</td>\n",
       "      <td>14.738228</td>\n",
       "      <td>0.000732</td>\n",
       "      <td>-0.061114</td>\n",
       "      <td>-0.030057</td>\n",
       "      <td>...</td>\n",
       "      <td>29.984624</td>\n",
       "      <td>11.271652</td>\n",
       "      <td>-0.752385</td>\n",
       "      <td>-5.015364</td>\n",
       "      <td>-69.553891</td>\n",
       "      <td>70.500879</td>\n",
       "      <td>4.050182</td>\n",
       "      <td>0.031596</td>\n",
       "      <td>3.746714</td>\n",
       "      <td>0.007695</td>\n",
       "    </tr>\n",
       "  </tbody>\n",
       "</table>\n",
       "<p>6 rows × 60 columns</p>\n",
       "</div>"
      ],
      "text/plain": [
       "       y        x1        x2        x3        x4        x5         x6  \\\n",
       "252  0.0  0.987078 -4.025989 -1.210205  0.899603  0.450338  14.098854   \n",
       "253  0.0  0.921726 -3.728572 -1.230373 -1.598718  0.227178  14.594612   \n",
       "254  0.0  0.975947 -3.913736 -1.304682  0.561987  0.004034  14.630532   \n",
       "255  0.0  0.997107 -3.865720 -1.133779  0.377295 -0.219126  14.666420   \n",
       "256  0.0  1.016235 -4.058394 -1.097158  2.327307 -0.442286  14.702309   \n",
       "257  1.0  1.005602 -3.876199 -1.074373  0.844397 -0.553050  14.738228   \n",
       "\n",
       "           x7        x8        x9    ...           x51        x52       x53  \\\n",
       "252  0.000732 -0.051043 -0.059966    ...     29.984624  11.248703 -0.752385   \n",
       "253  0.000061 -0.051043 -0.040129    ...     29.984624  11.253342 -0.752385   \n",
       "254  0.000732 -0.051043 -0.040129    ...     29.984624  11.257736 -0.752385   \n",
       "255  0.000732 -0.061114 -0.040129    ...     29.984624  11.262375 -0.752385   \n",
       "256  0.000732 -0.061114 -0.040129    ...     29.984624  11.267013 -0.752385   \n",
       "257  0.000732 -0.061114 -0.030057    ...     29.984624  11.271652 -0.752385   \n",
       "\n",
       "          x54        x55        x56       x57       x58       x59       x60  \n",
       "252 -5.014893 -67.454037  66.232568  4.114269  0.033726  4.845087  0.007776  \n",
       "253 -5.014987 -58.029477  66.310022  3.537487  0.032518  4.969500  0.007760  \n",
       "254 -5.015081 -61.783749  71.917352  3.473400  0.031310  2.981432  0.007743  \n",
       "255 -5.015176 -70.151791  73.876977  3.473400  0.030776  2.563593  0.007727  \n",
       "256 -5.015270 -60.884701  72.188928  4.114269  0.031186  2.982454  0.007711  \n",
       "257 -5.015364 -69.553891  70.500879  4.050182  0.031596  3.746714  0.007695  \n",
       "\n",
       "[6 rows x 60 columns]"
      ]
     },
     "metadata": {},
     "output_type": "display_data"
    },
    {
     "name": "stdout",
     "output_type": "stream",
     "text": [
      "For the same instance of y = 1, we are keeping past 5 samples in the 3D predictor array, X.\n"
     ]
    },
    {
     "data": {
      "text/html": [
       "<div>\n",
       "<style scoped>\n",
       "    .dataframe tbody tr th:only-of-type {\n",
       "        vertical-align: middle;\n",
       "    }\n",
       "\n",
       "    .dataframe tbody tr th {\n",
       "        vertical-align: top;\n",
       "    }\n",
       "\n",
       "    .dataframe thead th {\n",
       "        text-align: right;\n",
       "    }\n",
       "</style>\n",
       "<table border=\"1\" class=\"dataframe\">\n",
       "  <thead>\n",
       "    <tr style=\"text-align: right;\">\n",
       "      <th></th>\n",
       "      <th>0</th>\n",
       "      <th>1</th>\n",
       "      <th>2</th>\n",
       "      <th>3</th>\n",
       "      <th>4</th>\n",
       "      <th>5</th>\n",
       "      <th>6</th>\n",
       "      <th>7</th>\n",
       "      <th>8</th>\n",
       "      <th>9</th>\n",
       "      <th>...</th>\n",
       "      <th>49</th>\n",
       "      <th>50</th>\n",
       "      <th>51</th>\n",
       "      <th>52</th>\n",
       "      <th>53</th>\n",
       "      <th>54</th>\n",
       "      <th>55</th>\n",
       "      <th>56</th>\n",
       "      <th>57</th>\n",
       "      <th>58</th>\n",
       "    </tr>\n",
       "  </thead>\n",
       "  <tbody>\n",
       "    <tr>\n",
       "      <th>0</th>\n",
       "      <td>0.921726</td>\n",
       "      <td>-3.728572</td>\n",
       "      <td>-1.230373</td>\n",
       "      <td>-1.598718</td>\n",
       "      <td>0.227178</td>\n",
       "      <td>14.594612</td>\n",
       "      <td>0.000061</td>\n",
       "      <td>-0.051043</td>\n",
       "      <td>-0.040129</td>\n",
       "      <td>0.001791</td>\n",
       "      <td>...</td>\n",
       "      <td>29.984624</td>\n",
       "      <td>11.253342</td>\n",
       "      <td>-0.752385</td>\n",
       "      <td>-5.014987</td>\n",
       "      <td>-58.029477</td>\n",
       "      <td>66.310022</td>\n",
       "      <td>3.537487</td>\n",
       "      <td>0.032518</td>\n",
       "      <td>4.969500</td>\n",
       "      <td>0.007760</td>\n",
       "    </tr>\n",
       "    <tr>\n",
       "      <th>1</th>\n",
       "      <td>0.975947</td>\n",
       "      <td>-3.913736</td>\n",
       "      <td>-1.304682</td>\n",
       "      <td>0.561987</td>\n",
       "      <td>0.004034</td>\n",
       "      <td>14.630532</td>\n",
       "      <td>0.000732</td>\n",
       "      <td>-0.051043</td>\n",
       "      <td>-0.040129</td>\n",
       "      <td>0.001791</td>\n",
       "      <td>...</td>\n",
       "      <td>29.984624</td>\n",
       "      <td>11.257736</td>\n",
       "      <td>-0.752385</td>\n",
       "      <td>-5.015081</td>\n",
       "      <td>-61.783749</td>\n",
       "      <td>71.917352</td>\n",
       "      <td>3.473400</td>\n",
       "      <td>0.031310</td>\n",
       "      <td>2.981432</td>\n",
       "      <td>0.007743</td>\n",
       "    </tr>\n",
       "    <tr>\n",
       "      <th>2</th>\n",
       "      <td>0.997107</td>\n",
       "      <td>-3.865720</td>\n",
       "      <td>-1.133779</td>\n",
       "      <td>0.377295</td>\n",
       "      <td>-0.219126</td>\n",
       "      <td>14.666420</td>\n",
       "      <td>0.000732</td>\n",
       "      <td>-0.061114</td>\n",
       "      <td>-0.040129</td>\n",
       "      <td>0.001791</td>\n",
       "      <td>...</td>\n",
       "      <td>29.984624</td>\n",
       "      <td>11.262375</td>\n",
       "      <td>-0.752385</td>\n",
       "      <td>-5.015176</td>\n",
       "      <td>-70.151791</td>\n",
       "      <td>73.876977</td>\n",
       "      <td>3.473400</td>\n",
       "      <td>0.030776</td>\n",
       "      <td>2.563593</td>\n",
       "      <td>0.007727</td>\n",
       "    </tr>\n",
       "    <tr>\n",
       "      <th>3</th>\n",
       "      <td>1.016235</td>\n",
       "      <td>-4.058394</td>\n",
       "      <td>-1.097158</td>\n",
       "      <td>2.327307</td>\n",
       "      <td>-0.442286</td>\n",
       "      <td>14.702309</td>\n",
       "      <td>0.000732</td>\n",
       "      <td>-0.061114</td>\n",
       "      <td>-0.040129</td>\n",
       "      <td>0.001791</td>\n",
       "      <td>...</td>\n",
       "      <td>29.984624</td>\n",
       "      <td>11.267013</td>\n",
       "      <td>-0.752385</td>\n",
       "      <td>-5.015270</td>\n",
       "      <td>-60.884701</td>\n",
       "      <td>72.188928</td>\n",
       "      <td>4.114269</td>\n",
       "      <td>0.031186</td>\n",
       "      <td>2.982454</td>\n",
       "      <td>0.007711</td>\n",
       "    </tr>\n",
       "    <tr>\n",
       "      <th>4</th>\n",
       "      <td>1.005602</td>\n",
       "      <td>-3.876199</td>\n",
       "      <td>-1.074373</td>\n",
       "      <td>0.844397</td>\n",
       "      <td>-0.553050</td>\n",
       "      <td>14.738228</td>\n",
       "      <td>0.000732</td>\n",
       "      <td>-0.061114</td>\n",
       "      <td>-0.030057</td>\n",
       "      <td>0.001791</td>\n",
       "      <td>...</td>\n",
       "      <td>29.984624</td>\n",
       "      <td>11.271652</td>\n",
       "      <td>-0.752385</td>\n",
       "      <td>-5.015364</td>\n",
       "      <td>-69.553891</td>\n",
       "      <td>70.500879</td>\n",
       "      <td>4.050182</td>\n",
       "      <td>0.031596</td>\n",
       "      <td>3.746714</td>\n",
       "      <td>0.007695</td>\n",
       "    </tr>\n",
       "  </tbody>\n",
       "</table>\n",
       "<p>5 rows × 59 columns</p>\n",
       "</div>"
      ],
      "text/plain": [
       "         0         1         2         3         4          5         6   \\\n",
       "0  0.921726 -3.728572 -1.230373 -1.598718  0.227178  14.594612  0.000061   \n",
       "1  0.975947 -3.913736 -1.304682  0.561987  0.004034  14.630532  0.000732   \n",
       "2  0.997107 -3.865720 -1.133779  0.377295 -0.219126  14.666420  0.000732   \n",
       "3  1.016235 -4.058394 -1.097158  2.327307 -0.442286  14.702309  0.000732   \n",
       "4  1.005602 -3.876199 -1.074373  0.844397 -0.553050  14.738228  0.000732   \n",
       "\n",
       "         7         8         9     ...            49         50        51  \\\n",
       "0 -0.051043 -0.040129  0.001791    ...     29.984624  11.253342 -0.752385   \n",
       "1 -0.051043 -0.040129  0.001791    ...     29.984624  11.257736 -0.752385   \n",
       "2 -0.061114 -0.040129  0.001791    ...     29.984624  11.262375 -0.752385   \n",
       "3 -0.061114 -0.040129  0.001791    ...     29.984624  11.267013 -0.752385   \n",
       "4 -0.061114 -0.030057  0.001791    ...     29.984624  11.271652 -0.752385   \n",
       "\n",
       "         52         53         54        55        56        57        58  \n",
       "0 -5.014987 -58.029477  66.310022  3.537487  0.032518  4.969500  0.007760  \n",
       "1 -5.015081 -61.783749  71.917352  3.473400  0.031310  2.981432  0.007743  \n",
       "2 -5.015176 -70.151791  73.876977  3.473400  0.030776  2.563593  0.007727  \n",
       "3 -5.015270 -60.884701  72.188928  4.114269  0.031186  2.982454  0.007711  \n",
       "4 -5.015364 -69.553891  70.500879  4.050182  0.031596  3.746714  0.007695  \n",
       "\n",
       "[5 rows x 59 columns]"
      ]
     },
     "metadata": {},
     "output_type": "display_data"
    }
   ],
   "source": [
    "'''\n",
    "Test: The 3D tensors (arrays) for LSTM are forming correctly.\n",
    "'''\n",
    "print('First instance of y = 1 in the original data')\n",
    "display(df.iloc[(np.where(np.array(input_y) == 1)[0][0]-5):(np.where(np.array(input_y) == 1)[0][0]+1), ])\n",
    "\n",
    "lookback = 5  # Equivalent to 10 min of past data.\n",
    "# Temporalize the data\n",
    "X, y = temporalize(X = input_X, y = input_y, lookback = lookback)\n",
    "\n",
    "print('For the same instance of y = 1, we are keeping past 5 samples in the 3D predictor array, X.')\n",
    "display(pd.DataFrame(np.concatenate(X[np.where(np.array(y) == 1)[0][0]], axis=0 ))) "
   ]
  },
  {
   "cell_type": "markdown",
   "metadata": {},
   "source": [
    "The two tables are the same. This testifies that we are correctly taking 5 samples (= lookback), X(t):X(t-5) to predict y(t)."
   ]
  },
  {
   "cell_type": "markdown",
   "metadata": {},
   "source": [
    "### Divide the data into train, valid, and test"
   ]
  },
  {
   "cell_type": "code",
   "execution_count": 9,
   "metadata": {},
   "outputs": [],
   "source": [
    "X_train, X_test, y_train, y_test = train_test_split(np.array(X), np.array(y), test_size=DATA_SPLIT_PCT, random_state=SEED)\n",
    "X_train, X_valid, y_train, y_valid = train_test_split(X_train, y_train, test_size=DATA_SPLIT_PCT, random_state=SEED)"
   ]
  },
  {
   "cell_type": "code",
   "execution_count": 10,
   "metadata": {},
   "outputs": [
    {
     "data": {
      "text/plain": [
       "(11691, 5, 1, 59)"
      ]
     },
     "execution_count": 10,
     "metadata": {},
     "output_type": "execute_result"
    }
   ],
   "source": [
    "X_train.shape"
   ]
  },
  {
   "cell_type": "code",
   "execution_count": 11,
   "metadata": {},
   "outputs": [],
   "source": [
    "X_train_y0 = X_train[y_train==0]\n",
    "X_train_y1 = X_train[y_train==1]\n",
    "\n",
    "X_valid_y0 = X_valid[y_valid==0]\n",
    "X_valid_y1 = X_valid[y_valid==1]"
   ]
  },
  {
   "cell_type": "code",
   "execution_count": 12,
   "metadata": {},
   "outputs": [
    {
     "data": {
      "text/plain": [
       "(11536, 5, 1, 59)"
      ]
     },
     "execution_count": 12,
     "metadata": {},
     "output_type": "execute_result"
    }
   ],
   "source": [
    "X_train_y0.shape"
   ]
  },
  {
   "cell_type": "markdown",
   "metadata": {},
   "source": [
    "#### Reshaping the data\n",
    "The tensors we have here are 4-dimensional. We will reshape them into the desired 3-dimensions corresponding to sample x lookback x features."
   ]
  },
  {
   "cell_type": "code",
   "execution_count": 13,
   "metadata": {},
   "outputs": [],
   "source": [
    "X_train = X_train.reshape(X_train.shape[0], lookback, n_features)\n",
    "X_train_y0 = X_train_y0.reshape(X_train_y0.shape[0], lookback, n_features)\n",
    "X_train_y1 = X_train_y1.reshape(X_train_y1.shape[0], lookback, n_features)\n",
    "\n",
    "X_test = X_test.reshape(X_test.shape[0], lookback, n_features)\n",
    "\n",
    "X_valid = X_valid.reshape(X_valid.shape[0], lookback, n_features)\n",
    "X_valid_y0 = X_valid_y0.reshape(X_valid_y0.shape[0], lookback, n_features)\n",
    "X_valid_y1 = X_valid_y1.reshape(X_valid_y1.shape[0], lookback, n_features)"
   ]
  },
  {
   "cell_type": "markdown",
   "metadata": {},
   "source": [
    "### Standardize the data\n",
    "It is usually better to use a standardized data (transformed to Gaussian, mean 0 and sd 1) for autoencoders.\n",
    "\n",
    "One common mistake is: we normalize the entire data and then split into train-test. This is not correct. Test data should be completely unseen to anything during the modeling. We should normalize the test data using the feature summary statistics computed from the training data. For normalization, these statistics are the mean and variance for each feature. \n",
    "\n",
    "The same logic should be used for the validation set. This makes the model more stable for a test data.\n",
    "\n",
    "To do this, we will require two UDFs.\n",
    "\n",
    "- `flatten`: This function will re-create the original 2D array from which the 3D arrays were created. This function is the inverse of `temporalize`, meaning `X = flatten(temporalize(X))`.\n",
    "- `scale`: This function will scale a 3D array that we created as inputs to the LSTM."
   ]
  },
  {
   "cell_type": "code",
   "execution_count": 14,
   "metadata": {},
   "outputs": [],
   "source": [
    "def flatten(X):\n",
    "    '''\n",
    "    Flatten a 3D array.\n",
    "    \n",
    "    Input\n",
    "    X            A 3D array for lstm, where the array is sample x timesteps x features.\n",
    "    \n",
    "    Output\n",
    "    flattened_X  A 2D array, sample x features.\n",
    "    '''\n",
    "    flattened_X = np.empty((X.shape[0], X.shape[2]))  # sample x features array.\n",
    "    for i in range(X.shape[0]):\n",
    "        flattened_X[i] = X[i, (X.shape[1]-1), :]\n",
    "    return(flattened_X)\n",
    "\n",
    "def scale(X, scaler):\n",
    "    '''\n",
    "    Scale 3D array.\n",
    "\n",
    "    Inputs\n",
    "    X            A 3D array for lstm, where the array is sample x timesteps x features.\n",
    "    scaler       A scaler object, e.g., sklearn.preprocessing.StandardScaler, sklearn.preprocessing.normalize\n",
    "    \n",
    "    Output\n",
    "    X            Scaled 3D array.\n",
    "    '''\n",
    "    for i in range(X.shape[0]):\n",
    "        X[i, :, :] = scaler.transform(X[i, :, :])\n",
    "        \n",
    "    return X"
   ]
  },
  {
   "cell_type": "code",
   "execution_count": 15,
   "metadata": {},
   "outputs": [],
   "source": [
    "# Initialize a scaler using the training data.\n",
    "scaler = StandardScaler().fit(flatten(X_train_y0))"
   ]
  },
  {
   "cell_type": "code",
   "execution_count": 16,
   "metadata": {},
   "outputs": [],
   "source": [
    "X_train_y0_scaled = scale(X_train_y0, scaler)\n",
    "X_train_y1_scaled = scale(X_train_y1, scaler)\n",
    "X_train_scaled = scale(X_train, scaler)"
   ]
  },
  {
   "cell_type": "code",
   "execution_count": 17,
   "metadata": {},
   "outputs": [
    {
     "name": "stdout",
     "output_type": "stream",
     "text": [
      "colwise mean [ 0. -0.  0.  0.  0. -0.  0.  0.  0.  0. -0. -0. -0. -0. -0.  0. -0. -0.\n",
      " -0. -0.  0.  0. -0. -0.  0.  0. -0.  0. -0.  0.  0.  0. -0. -0. -0.  0.\n",
      "  0.  0. -0.  0.  0.  0. -0. -0.  0.  0.  0.  0.  0.  0.  0. -0. -0.  0.\n",
      "  0. -0. -0.  0.  0.]\n",
      "colwise variance [1. 1. 1. 1. 1. 1. 1. 1. 1. 1. 1. 1. 1. 1. 1. 1. 1. 1. 1. 1. 1. 1. 1. 1.\n",
      " 1. 1. 1. 1. 1. 1. 1. 1. 1. 1. 1. 1. 1. 1. 1. 1. 1. 1. 1. 1. 1. 1. 1. 1.\n",
      " 1. 1. 1. 1. 1. 1. 1. 1. 1. 1. 1.]\n"
     ]
    }
   ],
   "source": [
    "'''\n",
    "Test: Check if the scaling is correct.\n",
    "\n",
    "The test succeeds if all the column means \n",
    "and variances are 0 and 1, respectively, after\n",
    "flattening.\n",
    "'''\n",
    "a = flatten(X_train_y0_scaled)\n",
    "print('colwise mean', np.mean(a, axis=0).round(6))\n",
    "print('colwise variance', np.var(a, axis=0))"
   ]
  },
  {
   "cell_type": "markdown",
   "metadata": {},
   "source": [
    "The test succeeded. Now we will _scale_ the validation and test sets."
   ]
  },
  {
   "cell_type": "code",
   "execution_count": 18,
   "metadata": {},
   "outputs": [],
   "source": [
    "X_valid_scaled = scale(X_valid, scaler)\n",
    "X_valid_y0_scaled = scale(X_valid_y0, scaler)\n",
    "\n",
    "X_test_scaled = scale(X_test, scaler)"
   ]
  },
  {
   "cell_type": "markdown",
   "metadata": {},
   "source": [
    "## LSTM Autoencoder training"
   ]
  },
  {
   "cell_type": "markdown",
   "metadata": {},
   "source": [
    "First we will initialize the Autoencoder architecture. We are building a simple autoencoder. More complex architectures and other configurations should be explored."
   ]
  },
  {
   "cell_type": "code",
   "execution_count": 85,
   "metadata": {},
   "outputs": [],
   "source": [
    "timesteps =  X_train_y0_scaled.shape[1] # equal to the lookback\n",
    "n_features =  X_train_y0_scaled.shape[2] # 59\n",
    "\n",
    "epochs = 100\n",
    "batch_size = 64\n",
    "lr = 0.0001"
   ]
  },
  {
   "cell_type": "code",
   "execution_count": 142,
   "metadata": {},
   "outputs": [
    {
     "name": "stdout",
     "output_type": "stream",
     "text": [
      "_________________________________________________________________\n",
      "Layer (type)                 Output Shape              Param #   \n",
      "=================================================================\n",
      "lstm_36 (LSTM)               (None, 5, 32)             11776     \n",
      "_________________________________________________________________\n",
      "lstm_37 (LSTM)               (None, 4)                 592       \n",
      "_________________________________________________________________\n",
      "repeat_vector_9 (RepeatVecto (None, 5, 4)              0         \n",
      "_________________________________________________________________\n",
      "lstm_38 (LSTM)               (None, 5, 4)              144       \n",
      "_________________________________________________________________\n",
      "lstm_39 (LSTM)               (None, 5, 32)             4736      \n",
      "_________________________________________________________________\n",
      "time_distributed_9 (TimeDist (None, 5, 59)             1947      \n",
      "=================================================================\n",
      "Total params: 19,195\n",
      "Trainable params: 19,195\n",
      "Non-trainable params: 0\n",
      "_________________________________________________________________\n"
     ]
    }
   ],
   "source": [
    "lstm_autoencoder = Sequential()\n",
    "# Encoder\n",
    "lstm_autoencoder.add(LSTM(32, activation='linear', input_shape=(timesteps, n_features), return_sequences=True))\n",
    "lstm_autoencoder.add(LSTM(4, activation='linear', return_sequences=False, dropout = 0.5))\n",
    "lstm_autoencoder.add(RepeatVector(timesteps))\n",
    "# Decoder\n",
    "lstm_autoencoder.add(LSTM(4, activation='linear', return_sequences=True))\n",
    "lstm_autoencoder.add(LSTM(32, activation='linear', return_sequences=True))\n",
    "lstm_autoencoder.add(TimeDistributed(Dense(n_features)))\n",
    "\n",
    "lstm_autoencoder.summary()"
   ]
  },
  {
   "cell_type": "markdown",
   "metadata": {},
   "source": [
    "As a rule-of-thumb, look at the number of parameters. If not using any regularization, keep this less than the number of samples. If using regularization, depending on the degree of regularization you can let more parameters in the model that is greater than the sample size. For example, if using dropout with 0.5, you can have up to double the sample size (loosely speaking)."
   ]
  },
  {
   "cell_type": "code",
   "execution_count": 143,
   "metadata": {},
   "outputs": [
    {
     "name": "stdout",
     "output_type": "stream",
     "text": [
      "Train on 11536 samples, validate on 2880 samples\n",
      "Epoch 1/100\n",
      " - 6s - loss: 1.0089 - val_loss: 1.0274\n",
      "Epoch 2/100\n",
      " - 2s - loss: 0.9956 - val_loss: 1.0254\n",
      "Epoch 3/100\n",
      " - 2s - loss: 0.9941 - val_loss: 1.0228\n",
      "Epoch 4/100\n",
      " - 2s - loss: 0.9904 - val_loss: 1.0169\n",
      "Epoch 5/100\n",
      " - 2s - loss: 0.9799 - val_loss: 0.9967\n",
      "Epoch 6/100\n",
      " - 2s - loss: 0.9547 - val_loss: 0.9534\n",
      "Epoch 7/100\n",
      " - 2s - loss: 0.9201 - val_loss: 0.9138\n",
      "Epoch 8/100\n",
      " - 2s - loss: 0.8941 - val_loss: 0.8823\n",
      "Epoch 9/100\n",
      " - 2s - loss: 0.8707 - val_loss: 0.8543\n",
      "Epoch 10/100\n",
      " - 2s - loss: 0.8434 - val_loss: 0.8045\n",
      "Epoch 11/100\n",
      " - 2s - loss: 0.8125 - val_loss: 0.7611\n",
      "Epoch 12/100\n",
      " - 2s - loss: 0.7811 - val_loss: 0.7353\n",
      "Epoch 13/100\n",
      " - 2s - loss: 0.7513 - val_loss: 0.7020\n",
      "Epoch 14/100\n",
      " - 2s - loss: 0.7308 - val_loss: 0.6738\n",
      "Epoch 15/100\n",
      " - 2s - loss: 0.7119 - val_loss: 0.6544\n",
      "Epoch 16/100\n",
      " - 2s - loss: 0.6894 - val_loss: 0.6335\n",
      "Epoch 17/100\n",
      " - 2s - loss: 0.6753 - val_loss: 0.6180\n",
      "Epoch 18/100\n",
      " - 2s - loss: 0.6591 - val_loss: 0.6052\n",
      "Epoch 19/100\n",
      " - 2s - loss: 0.6483 - val_loss: 0.5945\n",
      "Epoch 20/100\n",
      " - 2s - loss: 0.6397 - val_loss: 0.5876\n",
      "Epoch 21/100\n",
      " - 2s - loss: 0.6325 - val_loss: 0.5773\n",
      "Epoch 22/100\n",
      " - 2s - loss: 0.6215 - val_loss: 0.5701\n",
      "Epoch 23/100\n",
      " - 2s - loss: 0.6138 - val_loss: 0.5651\n",
      "Epoch 24/100\n",
      " - 2s - loss: 0.6076 - val_loss: 0.5582\n",
      "Epoch 25/100\n",
      " - 2s - loss: 0.6009 - val_loss: 0.5530\n",
      "Epoch 26/100\n",
      " - 2s - loss: 0.5932 - val_loss: 0.5485\n",
      "Epoch 27/100\n",
      " - 2s - loss: 0.5898 - val_loss: 0.5442\n",
      "Epoch 28/100\n",
      " - 2s - loss: 0.5892 - val_loss: 0.5401\n",
      "Epoch 29/100\n",
      " - 2s - loss: 0.5826 - val_loss: 0.5367\n",
      "Epoch 30/100\n",
      " - 2s - loss: 0.5809 - val_loss: 0.5307\n",
      "Epoch 31/100\n",
      " - 2s - loss: 0.5722 - val_loss: 0.5268\n",
      "Epoch 32/100\n",
      " - 2s - loss: 0.5679 - val_loss: 0.5226\n",
      "Epoch 33/100\n",
      " - 2s - loss: 0.5634 - val_loss: 0.5171\n",
      "Epoch 34/100\n",
      " - 2s - loss: 0.5622 - val_loss: 0.5127\n",
      "Epoch 35/100\n",
      " - 2s - loss: 0.5590 - val_loss: 0.5081\n",
      "Epoch 36/100\n",
      " - 2s - loss: 0.5512 - val_loss: 0.5038\n",
      "Epoch 37/100\n",
      " - 2s - loss: 0.5459 - val_loss: 0.4990\n",
      "Epoch 38/100\n",
      " - 2s - loss: 0.5472 - val_loss: 0.4954\n",
      "Epoch 39/100\n",
      " - 2s - loss: 0.5435 - val_loss: 0.4916\n",
      "Epoch 40/100\n",
      " - 2s - loss: 0.5378 - val_loss: 0.4878\n",
      "Epoch 41/100\n",
      " - 2s - loss: 0.5310 - val_loss: 0.4835\n",
      "Epoch 42/100\n",
      " - 2s - loss: 0.5263 - val_loss: 0.4806\n",
      "Epoch 43/100\n",
      " - 2s - loss: 0.5233 - val_loss: 0.4761\n",
      "Epoch 44/100\n",
      " - 2s - loss: 0.5195 - val_loss: 0.4732\n",
      "Epoch 45/100\n",
      " - 2s - loss: 0.5159 - val_loss: 0.4703\n",
      "Epoch 46/100\n",
      " - 2s - loss: 0.5168 - val_loss: 0.4660\n",
      "Epoch 47/100\n",
      " - 2s - loss: 0.5108 - val_loss: 0.4633\n",
      "Epoch 48/100\n",
      " - 2s - loss: 0.5068 - val_loss: 0.4603\n",
      "Epoch 49/100\n",
      " - 2s - loss: 0.5041 - val_loss: 0.4575\n",
      "Epoch 50/100\n",
      " - 2s - loss: 0.4983 - val_loss: 0.4541\n",
      "Epoch 51/100\n",
      " - 2s - loss: 0.4970 - val_loss: 0.4509\n",
      "Epoch 52/100\n",
      " - 2s - loss: 0.4949 - val_loss: 0.4486\n",
      "Epoch 53/100\n",
      " - 2s - loss: 0.4923 - val_loss: 0.4463\n",
      "Epoch 54/100\n",
      " - 2s - loss: 0.4882 - val_loss: 0.4437\n",
      "Epoch 55/100\n",
      " - 2s - loss: 0.4866 - val_loss: 0.4415\n",
      "Epoch 56/100\n",
      " - 2s - loss: 0.4836 - val_loss: 0.4393\n",
      "Epoch 57/100\n",
      " - 2s - loss: 0.4803 - val_loss: 0.4370\n",
      "Epoch 58/100\n",
      " - 2s - loss: 0.4771 - val_loss: 0.4353\n",
      "Epoch 59/100\n",
      " - 2s - loss: 0.4761 - val_loss: 0.4333\n",
      "Epoch 60/100\n",
      " - 2s - loss: 0.4740 - val_loss: 0.4313\n",
      "Epoch 61/100\n",
      " - 2s - loss: 0.4707 - val_loss: 0.4299\n",
      "Epoch 62/100\n",
      " - 2s - loss: 0.4720 - val_loss: 0.4279\n",
      "Epoch 63/100\n",
      " - 2s - loss: 0.4661 - val_loss: 0.4262\n",
      "Epoch 64/100\n",
      " - 2s - loss: 0.4635 - val_loss: 0.4248\n",
      "Epoch 65/100\n",
      " - 2s - loss: 0.4629 - val_loss: 0.4235\n",
      "Epoch 66/100\n",
      " - 2s - loss: 0.4599 - val_loss: 0.4221\n",
      "Epoch 67/100\n",
      " - 2s - loss: 0.4559 - val_loss: 0.4206\n",
      "Epoch 68/100\n",
      " - 2s - loss: 0.4557 - val_loss: 0.4195\n",
      "Epoch 69/100\n",
      " - 2s - loss: 0.4538 - val_loss: 0.4180\n",
      "Epoch 70/100\n",
      " - 2s - loss: 0.4535 - val_loss: 0.4171\n",
      "Epoch 71/100\n",
      " - 2s - loss: 0.4505 - val_loss: 0.4152\n",
      "Epoch 72/100\n",
      " - 2s - loss: 0.4530 - val_loss: 0.4149\n",
      "Epoch 73/100\n",
      " - 2s - loss: 0.4494 - val_loss: 0.4145\n",
      "Epoch 74/100\n",
      " - 2s - loss: 0.4500 - val_loss: 0.4124\n",
      "Epoch 75/100\n",
      " - 2s - loss: 0.4496 - val_loss: 0.4118\n",
      "Epoch 76/100\n",
      " - 2s - loss: 0.4434 - val_loss: 0.4104\n",
      "Epoch 77/100\n",
      " - 2s - loss: 0.4430 - val_loss: 0.4091\n",
      "Epoch 78/100\n",
      " - 2s - loss: 0.4429 - val_loss: 0.4082\n",
      "Epoch 79/100\n",
      " - 2s - loss: 0.4422 - val_loss: 0.4074\n",
      "Epoch 80/100\n",
      " - 2s - loss: 0.4406 - val_loss: 0.4065\n",
      "Epoch 81/100\n",
      " - 2s - loss: 0.4384 - val_loss: 0.4049\n",
      "Epoch 82/100\n",
      " - 2s - loss: 0.4374 - val_loss: 0.4037\n",
      "Epoch 83/100\n",
      " - 2s - loss: 0.4390 - val_loss: 0.4039\n",
      "Epoch 84/100\n",
      " - 2s - loss: 0.4378 - val_loss: 0.4030\n",
      "Epoch 85/100\n",
      " - 2s - loss: 0.4352 - val_loss: 0.4017\n",
      "Epoch 86/100\n",
      " - 2s - loss: 0.4359 - val_loss: 0.4025\n",
      "Epoch 87/100\n",
      " - 2s - loss: 0.4343 - val_loss: 0.4010\n",
      "Epoch 88/100\n",
      " - 2s - loss: 0.4350 - val_loss: 0.4001\n",
      "Epoch 89/100\n",
      " - 2s - loss: 0.4344 - val_loss: 0.3990\n",
      "Epoch 90/100\n",
      " - 2s - loss: 0.4319 - val_loss: 0.3981\n",
      "Epoch 91/100\n",
      " - 2s - loss: 0.4334 - val_loss: 0.3977\n",
      "Epoch 92/100\n",
      " - 2s - loss: 0.4297 - val_loss: 0.3969\n",
      "Epoch 93/100\n",
      " - 2s - loss: 0.4277 - val_loss: 0.3962\n",
      "Epoch 94/100\n",
      " - 2s - loss: 0.4279 - val_loss: 0.3954\n",
      "Epoch 95/100\n",
      " - 2s - loss: 0.4267 - val_loss: 0.3953\n",
      "Epoch 96/100\n",
      " - 2s - loss: 0.4286 - val_loss: 0.3942\n",
      "Epoch 97/100\n",
      " - 2s - loss: 0.4274 - val_loss: 0.3942\n",
      "Epoch 98/100\n",
      " - 2s - loss: 0.4268 - val_loss: 0.3932\n",
      "Epoch 99/100\n",
      " - 2s - loss: 0.4259 - val_loss: 0.3927\n",
      "Epoch 100/100\n",
      " - 2s - loss: 0.4265 - val_loss: 0.3916\n"
     ]
    }
   ],
   "source": [
    "adam = optimizers.Adam(lr)\n",
    "lstm_autoencoder.compile(loss='mse', optimizer=adam)\n",
    "\n",
    "cp = ModelCheckpoint(filepath=\"lstm_autoencoder_classifier.h5\",\n",
    "                               save_best_only=True,\n",
    "                               verbose=0)\n",
    "\n",
    "tb = TensorBoard(log_dir='./logs',\n",
    "                histogram_freq=0,\n",
    "                write_graph=True,\n",
    "                write_images=True)\n",
    "\n",
    "lstm_autoencoder_history = lstm_autoencoder.fit(X_train_y0_scaled, X_train_y0_scaled, \n",
    "                                                epochs=epochs, \n",
    "                                                batch_size=batch_size, \n",
    "                                                validation_data=(X_valid_y0_scaled, X_valid_y0_scaled),\n",
    "                                                verbose=2).history"
   ]
  },
  {
   "cell_type": "code",
   "execution_count": 144,
   "metadata": {},
   "outputs": [
    {
     "data": {
      "image/png": "[encoded data removed]",
      "text/plain": [
       "<Figure size 576x432 with 1 Axes>"
      ]
     },
     "metadata": {
      "needs_background": "light"
     },
     "output_type": "display_data"
    }
   ],
   "source": [
    "plt.plot(lstm_autoencoder_history['loss'], linewidth=2, label='Train')\n",
    "plt.plot(lstm_autoencoder_history['val_loss'], linewidth=2, label='Valid')\n",
    "plt.legend(loc='upper right')\n",
    "plt.title('Model loss')\n",
    "plt.ylabel('Loss')\n",
    "plt.xlabel('Epoch')\n",
    "plt.show()"
   ]
  },
  {
   "cell_type": "markdown",
   "metadata": {},
   "source": [
    "### Sanity check\n",
    "Doing a sanity check by validating the reconstruction error \n",
    "on the train data. Here we will reconstruct the entire train \n",
    "data with both 0 and 1 labels.\n",
    "\n",
    "**Expectation**: the reconstruction error of 0 labeled data should\n",
    "be smaller than 1.\n",
    "\n",
    "**Caution**: do not use this result for model evaluation. It may\n",
    "result into overfitting issues."
   ]
  },
  {
   "cell_type": "code",
   "execution_count": 145,
   "metadata": {},
   "outputs": [
    {
     "data": {
      "image/png": "[encoded data removed]",
      "text/plain": [
       "<Figure size 576x432 with 1 Axes>"
      ]
     },
     "metadata": {
      "needs_background": "light"
     },
     "output_type": "display_data"
    }
   ],
   "source": [
    "train_x_predictions = lstm_autoencoder.predict(X_train_scaled)\n",
    "mse = np.mean(np.power(flatten(X_train_scaled) - flatten(train_x_predictions), 2), axis=1)\n",
    "\n",
    "error_df = pd.DataFrame({'Reconstruction_error': mse,\n",
    "                        'True_class': y_train.tolist()})\n",
    "\n",
    "groups = error_df.groupby('True_class')\n",
    "fig, ax = plt.subplots()\n",
    "\n",
    "for name, group in groups:\n",
    "    ax.plot(group.index, group.Reconstruction_error, marker='o', ms=3.5, linestyle='',\n",
    "            label= \"Break\" if name == 1 else \"Normal\")\n",
    "ax.legend()\n",
    "plt.title(\"Reconstruction error for different classes\")\n",
    "plt.ylabel(\"Reconstruction error\")\n",
    "plt.xlabel(\"Data point index\")\n",
    "plt.show();"
   ]
  },
  {
   "cell_type": "markdown",
   "metadata": {},
   "source": [
    "## Predictions using the Autoencoder"
   ]
  },
  {
   "cell_type": "code",
   "execution_count": 146,
   "metadata": {},
   "outputs": [
    {
     "data": {
      "image/png": "[encoded data removed]",
      "text/plain": [
       "<Figure size 576x432 with 1 Axes>"
      ]
     },
     "metadata": {
      "needs_background": "light"
     },
     "output_type": "display_data"
    }
   ],
   "source": [
    "valid_x_predictions = lstm_autoencoder.predict(X_valid_scaled)\n",
    "mse = np.mean(np.power(flatten(X_valid_scaled) - flatten(valid_x_predictions), 2), axis=1)\n",
    "\n",
    "error_df = pd.DataFrame({'Reconstruction_error': mse,\n",
    "                        'True_class': y_valid.tolist()})\n",
    "\n",
    "precision_rt, recall_rt, threshold_rt = precision_recall_curve(error_df.True_class, error_df.Reconstruction_error)\n",
    "plt.plot(threshold_rt, precision_rt[1:], label=\"Precision\",linewidth=5)\n",
    "plt.plot(threshold_rt, recall_rt[1:], label=\"Recall\",linewidth=5)\n",
    "plt.title('Precision and recall for different threshold values')\n",
    "plt.xlabel('Threshold')\n",
    "plt.ylabel('Precision/Recall')\n",
    "plt.legend()\n",
    "plt.show()"
   ]
  },
  {
   "cell_type": "code",
   "execution_count": 147,
   "metadata": {},
   "outputs": [
    {
     "data": {
      "image/png": "[encoded data removed]",
      "text/plain": [
       "<Figure size 576x432 with 1 Axes>"
      ]
     },
     "metadata": {
      "needs_background": "light"
     },
     "output_type": "display_data"
    }
   ],
   "source": [
    "test_x_predictions = lstm_autoencoder.predict(X_test_scaled)\n",
    "mse = np.mean(np.power(flatten(X_test_scaled) - flatten(test_x_predictions), 2), axis=1)\n",
    "\n",
    "error_df = pd.DataFrame({'Reconstruction_error': mse,\n",
    "                        'True_class': y_test.tolist()})\n",
    "\n",
    "threshold_fixed = 0.55\n",
    "groups = error_df.groupby('True_class')\n",
    "fig, ax = plt.subplots()\n",
    "\n",
    "for name, group in groups:\n",
    "    ax.plot(group.index, group.Reconstruction_error, marker='o', ms=3.5, linestyle='',\n",
    "            label= \"Break\" if name == 1 else \"Normal\")\n",
    "ax.hlines(threshold_fixed, ax.get_xlim()[0], ax.get_xlim()[1], colors=\"r\", zorder=100, label='Threshold')\n",
    "ax.legend()\n",
    "plt.title(\"Reconstruction error for different classes\")\n",
    "plt.ylabel(\"Reconstruction error\")\n",
    "plt.xlabel(\"Data point index\")\n",
    "plt.show();"
   ]
  },
  {
   "cell_type": "code",
   "execution_count": 148,
   "metadata": {},
   "outputs": [],
   "source": [
    "pred_y = [1 if e > threshold_fixed else 0 for e in error_df.Reconstruction_error.values]"
   ]
  },
  {
   "cell_type": "code",
   "execution_count": 149,
   "metadata": {},
   "outputs": [
    {
     "data": {
      "image/png": "[encoded data removed]",
      "text/plain": [
       "<Figure size 432x432 with 2 Axes>"
      ]
     },
     "metadata": {
      "needs_background": "light"
     },
     "output_type": "display_data"
    }
   ],
   "source": [
    "conf_matrix = confusion_matrix(error_df.True_class, pred_y)\n",
    "\n",
    "plt.figure(figsize=(6, 6))\n",
    "sns.heatmap(conf_matrix, xticklabels=LABELS, yticklabels=LABELS, annot=True, fmt=\"d\");\n",
    "plt.title(\"Confusion matrix\")\n",
    "plt.ylabel('True class')\n",
    "plt.xlabel('Predicted class')\n",
    "plt.show()"
   ]
  },
  {
   "cell_type": "code",
   "execution_count": 150,
   "metadata": {},
   "outputs": [
    {
     "data": {
      "image/png": "[encoded data removed]",
      "text/plain": [
       "<Figure size 576x432 with 1 Axes>"
      ]
     },
     "metadata": {
      "needs_background": "light"
     },
     "output_type": "display_data"
    }
   ],
   "source": [
    "false_pos_rate, true_pos_rate, thresholds = roc_curve(error_df.True_class, error_df.Reconstruction_error)\n",
    "roc_auc = auc(false_pos_rate, true_pos_rate,)\n",
    "\n",
    "plt.plot(false_pos_rate, true_pos_rate, linewidth=5, label='AUC = %0.3f'% roc_auc)\n",
    "plt.plot([0,1],[0,1], linewidth=5)\n",
    "\n",
    "plt.xlim([-0.01, 1])\n",
    "plt.ylim([0, 1.01])\n",
    "plt.legend(loc='lower right')\n",
    "plt.title('Receiver operating characteristic curve (ROC)')\n",
    "plt.ylabel('True Positive Rate')\n",
    "plt.xlabel('False Positive Rate')\n",
    "plt.show()"
   ]
  },
  {
   "cell_type": "markdown",
   "metadata": {},
   "source": [
    "### Obtaining the intermediate layer"
   ]
  },
  {
   "cell_type": "code",
   "execution_count": 151,
   "metadata": {},
   "outputs": [],
   "source": [
    "intermediate_layer = Model(inputs=lstm_autoencoder.inputs, outputs=lstm_autoencoder.layers[1].output)\n",
    "# time_dist_layer = Model(inputs=encoder_decoder.inputs, outputs=encoder_decoder.layers[5].output)\n",
    "intermediate_output = intermediate_layer.predict(X_train_y0_scaled)"
   ]
  },
  {
   "cell_type": "code",
   "execution_count": 152,
   "metadata": {},
   "outputs": [
    {
     "data": {
      "text/plain": [
       "(11536, 4)"
      ]
     },
     "execution_count": 152,
     "metadata": {},
     "output_type": "execute_result"
    }
   ],
   "source": [
    "intermediate_output.shape"
   ]
  },
  {
   "cell_type": "code",
   "execution_count": 153,
   "metadata": {},
   "outputs": [
    {
     "data": {
      "text/plain": [
       "array([[-0.0000000e+00, -2.7439863e+01,  6.8661976e-03, -4.6750937e+00],\n",
       "       [-0.0000000e+00, -2.6833809e+01,  1.8828404e-03, -4.5527391e+00],\n",
       "       [ 2.8657770e+00,  3.2041559e-01,  2.4687554e-01,  1.6774643e+01],\n",
       "       ...,\n",
       "       [-0.0000000e+00, -1.2468043e+01,  2.5419030e-02, -1.5488559e+01],\n",
       "       [ 3.6198219e+01,  0.0000000e+00,  6.8665199e+00,  1.2733276e+02],\n",
       "       [-0.0000000e+00, -1.3690137e+02,  0.0000000e+00, -1.7228886e+01]],\n",
       "      dtype=float32)"
      ]
     },
     "execution_count": 153,
     "metadata": {},
     "output_type": "execute_result"
    }
   ],
   "source": [
    "intermediate_output"
   ]
  },
  {
   "cell_type": "code",
   "execution_count": 154,
   "metadata": {},
   "outputs": [],
   "source": [
    "aa = np.array(intermediate_output)"
   ]
  },
  {
   "cell_type": "code",
   "execution_count": 155,
   "metadata": {},
   "outputs": [],
   "source": [
    "cc = np.cov(aa.T)"
   ]
  },
  {
   "cell_type": "code",
   "execution_count": 156,
   "metadata": {},
   "outputs": [
    {
     "data": {
      "text/plain": [
       "array([1238.55402902,  488.56879607,  260.65390144,  298.98111483])"
      ]
     },
     "execution_count": 156,
     "metadata": {},
     "output_type": "execute_result"
    }
   ],
   "source": [
    "np.linalg.eig(cc)[0]"
   ]
  },
  {
   "cell_type": "code",
   "execution_count": 157,
   "metadata": {},
   "outputs": [
    {
     "data": {
      "text/plain": [
       "[<matplotlib.lines.Line2D at 0x7f5f6cfa5f60>]"
      ]
     },
     "execution_count": 157,
     "metadata": {},
     "output_type": "execute_result"
    },
    {
     "data": {
      "image/png": "[encoded data removed]",
      "text/plain": [
       "<Figure size 576x432 with 1 Axes>"
      ]
     },
     "metadata": {
      "needs_background": "light"
     },
     "output_type": "display_data"
    }
   ],
   "source": [
    "plt.plot(np.linalg.eig(cc)[0])"
   ]
  },
  {
   "cell_type": "markdown",
   "metadata": {},
   "source": [
    "* Run PCA on original data.\n",
    "* See how the eigenvalues are distributed.\n",
    "* Run PCA on the scores. Expectation: their eig is all equal.\n",
    "* "
   ]
  }
 ],
 "metadata": {
  "kernelspec": {
   "display_name": "Python 3",
   "language": "python",
   "name": "python3"
  },
  "language_info": {
   "codemirror_mode": {
    "name": "ipython",
    "version": 3
   },
   "file_extension": ".py",
   "mimetype": "text/x-python",
   "name": "python",
   "nbconvert_exporter": "python",
   "pygments_lexer": "ipython3",
   "version": "3.7.1"
  }
 },
 "nbformat": 4,
 "nbformat_minor": 2
}
